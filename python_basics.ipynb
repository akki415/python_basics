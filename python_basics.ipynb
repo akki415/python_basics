{
  "nbformat": 4,
  "nbformat_minor": 0,
  "metadata": {
    "colab": {
      "provenance": []
    },
    "kernelspec": {
      "name": "python3",
      "display_name": "Python 3"
    },
    "language_info": {
      "name": "python"
    }
  },
  "cells": [
    {
      "cell_type": "markdown",
      "source": [
        "#Basics"
      ],
      "metadata": {
        "id": "qKkjAzHqT3Gc"
      }
    },
    {
      "cell_type": "markdown",
      "source": [
        "1>>  __What is Python, and why is it popular?__                                                                        \n",
        "    --> Python is a popular programming language that's easy to use, versatile, and open-source. It's used for many tasks, including web development, data science, and machine learning.                             \n",
        "    --> Python is popular because of reason like :\n",
        "  \n",
        "  Easy to learn, Large community, Extensive libraries, Intensive academic use\n",
        "\n",
        "      "
      ],
      "metadata": {
        "id": "oVL6hT8PT8w9"
      }
    },
    {
      "cell_type": "markdown",
      "source": [
        "2>>  __What is an interpreter in Python?__                                       \n",
        "    --> A Python interpreter is a program that reads and executes Python code. It translates Python code into machine code that the computer can understand. In simple words it acts as a bridge between humans and computer for communication."
      ],
      "metadata": {
        "id": "keE2Y4B3VZnE"
      }
    },
    {
      "cell_type": "markdown",
      "source": [
        "3>>  __What are pre-defined keywords in Python?__                                \n",
        "     --> Python has a set of keywords that are reserved words that cannot be used as variable names, function names, or any other identifiers and are called as pre-defined keywords in python\n",
        "\n",
        "\n",
        "    example: True\n",
        "             False\n",
        "             and\n",
        "             else\n",
        "             elif\n",
        "             as"
      ],
      "metadata": {
        "id": "5X_N3N1WWDrM"
      }
    },
    {
      "cell_type": "markdown",
      "source": [
        "4>>  __Can keywords be used as variable names?__                                 \n",
        "    --> No, keywords cannot be used as variable names.pre-Keywords are reserved words that define the syntax and structure of a programming language.\n",
        "\n",
        "\n",
        "    example: if and else\n",
        "\n",
        "       if condition = true:\n",
        "          print(\"success\")\n",
        "       else:\n",
        "          print(\"not successful\")   "
      ],
      "metadata": {
        "id": "soHzoktGWymu"
      }
    },
    {
      "cell_type": "markdown",
      "source": [
        "5>> __What is mutability in Python?__                                            \n",
        "    --> Mutability refers to whether an object value can change after it is created.\n",
        "\n",
        "\n",
        "    example: list, set\n",
        "             list1 = [1, 2, 'p', 5]\n",
        "             list1[3] = 'a'\n",
        "             print(list1)\n",
        "\n",
        "             output: [1, 2, 'a', 5]"
      ],
      "metadata": {
        "id": "GRLZShxpXf22"
      }
    },
    {
      "cell_type": "markdown",
      "source": [
        "6>> __Why are lists mutable, but tuples are immutable?__                         \n",
        "    --> List being dynamic in nature are designed to be flexible hence needs mutability for their dynamic nature and are often used when you need to perform operations like adding, removing, or updating elements frequently.   \n",
        "    -->  Tuples are immutable because they are meant to be used for fixed collections of items that shouldn't change like use of cordinates (x,y)"
      ],
      "metadata": {
        "id": "32PADd-RYzCG"
      }
    },
    {
      "cell_type": "markdown",
      "source": [
        "7>>  __What is the difference between “==” and “is” operators in Python?__       \n",
        "    --> the == operator compares the values of two objects, while the is operator compares their identity.                                            \n",
        "     -->  i.e  == is used When values of operands are equal while, (is) is used to check if the variables point to the same object in memory\n",
        "\n",
        "\n",
        "     example:a= 3\n",
        "             b= 3\n",
        "             c= a\n",
        "\n",
        "             a == b      # output will be true\n",
        "\n",
        "             a is c      # output will be true\n",
        "             "
      ],
      "metadata": {
        "id": "Ry3LjgeDa7fS"
      }
    },
    {
      "cell_type": "markdown",
      "source": [
        "8>>  __What are logical operators in Python?__                                   \n",
        "     -->  Python logical operators are used to combine and evaluate conditional statements, allowing you to perform operations based on multiple conditions.                                                                 \n",
        "     --> There are three types of logical operators: and, or, and not\n",
        "\n",
        "     and: Returns True if both statements are true\n",
        "     or: Returns True if one of the statements is true\n",
        "     not: Reverses the result, returning False if the result is true\n",
        "\n",
        "\n",
        "\n",
        "     example: a = 5\n",
        "              b = 10\n",
        "\n",
        "              if a>0 and b<20:\n",
        "                 print(\"first\")\n",
        "\n",
        "              elif  a > 0 or b < 10:\n",
        "                  print(\"second\")\n",
        "\n",
        "              elif  not (a > 5):\n",
        "                   print(\"okk\")      "
      ],
      "metadata": {
        "id": "kHk-AixfeMBf"
      }
    },
    {
      "cell_type": "markdown",
      "source": [
        "9>>  __What is type casting in Python?__\n",
        "    --> Type casting is the process of changing a variable's data type to another data type in Python. Type casting is of two types implicit and explicit\n",
        "\n",
        "    example:\n",
        "          a = 7\n",
        "          print(type(a))  ==> output: 7 int type               # implicit type\n",
        "\n",
        "          print(float(a)) ==> output : 7.0 float type          # explicit type\n",
        "         "
      ],
      "metadata": {
        "id": "bRgVLcRzgMft"
      }
    },
    {
      "cell_type": "markdown",
      "source": [
        "10>>  __What is the difference between implicit and explicit type casting?__\n",
        "     --> Implicit type casting happens automatically, while explicit type casting requires the programmer to intervene.\n",
        "\n",
        "\n",
        "     example:\n",
        "             a = 7\n",
        "             print(type(a))  ==> output: 7 int type               # implicit type\n",
        "\n",
        "             print(float(a)) ==> output : 7.0 float type          # explicit type"
      ],
      "metadata": {
        "id": "aJU-U1sWhvq2"
      }
    },
    {
      "cell_type": "markdown",
      "source": [
        "11>>  __What is the purpose of conditional statements in Python?__               \n",
        "     --> Conditional statements in Python are used to execute certain blocks of code based on specific conditions. These statements help control the flow of a program, making it behave differently in different situations.\n",
        "\n",
        "\n",
        "     example:\n",
        "       age = 20\n",
        "\n",
        "       if age >= 18:\n",
        "         print(\"eligible to vote\")\n",
        "       else:\n",
        "        print(\"Not eligible to vote\")  "
      ],
      "metadata": {
        "id": "4BAqg85SiJH6"
      }
    },
    {
      "cell_type": "markdown",
      "source": [
        "12>>  __How does the elif statement work?__                                      \n",
        "    -->  if the first condition is false, it moves on to the next i.e “elif” statement to check if that condition is true and there can be many \"elif\" statements.\n",
        "\n",
        "\n",
        "    example:\n",
        "       \n",
        "       y = 5\n",
        "\n",
        "         if y > 5:\n",
        "           print(\" y are greater than 5\")\n",
        "         elif y == 5:\n",
        "           print(\" y is  5\")\n",
        "         else:\n",
        "           print(\"y is less than 5\")"
      ],
      "metadata": {
        "id": "pCPhO8-Zkk1Y"
      }
    },
    {
      "cell_type": "markdown",
      "source": [
        "13>>  __What is the difference between for and while loop?__                     \n",
        "     --> A for loop is used when you know how many times you want to repeat a block of code, while a while loop is used when you don't know how many times you want to repeat it.\n",
        "\n",
        "\n",
        "     example:\n",
        "            for i in range(4):\n",
        "              print(i)           output: 0\n",
        "                                         1\n",
        "                                         2\n",
        "                                         3\n",
        "          count = 0\n",
        "          while count < 5:\n",
        "           print(count)\n",
        "            count += 1            output: 0\n",
        "                                          1\n",
        "                                          2\n",
        "                                          3\n",
        "                                          4\n"
      ],
      "metadata": {
        "id": "_iIhA6X7lp1l"
      }
    },
    {
      "cell_type": "markdown",
      "source": [
        "14>>  __Describe a scenario where a while loop is more suitable than a for loop.?__\n",
        "      --> While loop is ideal for situations where the number of iterations is not predetermined and depends on some dynamic condition.                   \n",
        "      --> Suppose you want to write a program that prints numbers starting from 1 and continues until it reaches a number less than 10.\n",
        "\n",
        "\n",
        "      i = 1\n",
        "     while i < 10:\n",
        "       print(i)\n",
        "        i += 1"
      ],
      "metadata": {
        "id": "7ouMi_RroY0j"
      }
    },
    {
      "cell_type": "code",
      "source": [
        "# ques1>> Write a Python program to print \"Hello, World!?\n",
        "\n",
        "print(\"Hello, World!\")"
      ],
      "metadata": {
        "colab": {
          "base_uri": "https://localhost:8080/"
        },
        "id": "NSd8gQDDuU-T",
        "outputId": "f38d8dec-1b79-40ee-b6a4-c6d9f3498a49"
      },
      "execution_count": 1,
      "outputs": [
        {
          "output_type": "stream",
          "name": "stdout",
          "text": [
            "Hello, World!\n"
          ]
        }
      ]
    },
    {
      "cell_type": "code",
      "source": [
        "# ques2>> Write a Python program that displays your name and age ?\n",
        "\n",
        "name = input(\"Please enter your name: \")\n",
        "age = input(\"please enter your age: \")\n",
        "\n",
        "print( \"Hi, \" + name + \" your age is \" + age)"
      ],
      "metadata": {
        "colab": {
          "base_uri": "https://localhost:8080/"
        },
        "id": "gNJREYsdutBh",
        "outputId": "074929ec-b10f-480c-dd8b-9c238c11979c"
      },
      "execution_count": 2,
      "outputs": [
        {
          "output_type": "stream",
          "name": "stdout",
          "text": [
            "Please enter your name: akash\n",
            "please enter your age: 25\n",
            "Hi, akash your age is 25\n"
          ]
        }
      ]
    },
    {
      "cell_type": "code",
      "source": [
        "# ques3>> Write code to print all the pre-defined keywords in Python using the keyword library?\n",
        "\n",
        "import keyword\n",
        "print(keyword.kwlist)"
      ],
      "metadata": {
        "colab": {
          "base_uri": "https://localhost:8080/"
        },
        "id": "fu2Le41xu2-3",
        "outputId": "9792754d-6e68-469a-98e9-d3feb81bba80"
      },
      "execution_count": 3,
      "outputs": [
        {
          "output_type": "stream",
          "name": "stdout",
          "text": [
            "['False', 'None', 'True', 'and', 'as', 'assert', 'async', 'await', 'break', 'class', 'continue', 'def', 'del', 'elif', 'else', 'except', 'finally', 'for', 'from', 'global', 'if', 'import', 'in', 'is', 'lambda', 'nonlocal', 'not', 'or', 'pass', 'raise', 'return', 'try', 'while', 'with', 'yield']\n"
          ]
        }
      ]
    },
    {
      "cell_type": "code",
      "source": [
        "# ques4>> Write a program that checks if a given word is a Python keyword?\n",
        "\n",
        "key_word = input(\"Enter the keyword: \")\n",
        "if key_word in keyword.kwlist:\n",
        "    print(f\"entered keyword   {key_word}   is a pre-defined keyword in python\")\n",
        "else:\n",
        "    print(f\"entered keyword   {key_word}   is not a pre-defined keyword in python\")"
      ],
      "metadata": {
        "colab": {
          "base_uri": "https://localhost:8080/"
        },
        "id": "vkAkc_Lvu8pS",
        "outputId": "97aa5445-d698-4481-ad95-e988dfcd6705"
      },
      "execution_count": 4,
      "outputs": [
        {
          "output_type": "stream",
          "name": "stdout",
          "text": [
            "Enter the keyword: break\n",
            "entered keyword   break   is a pre-defined keyword in python\n"
          ]
        }
      ]
    },
    {
      "cell_type": "code",
      "source": [
        "# ques5>> Create a list and tuple in Python, and demonstrate how attempting to change an element works differently for each?\n",
        "\n",
        "# LIST CREATION\n",
        "L1 = [\"pwskills\", 3, 4.6, \"akash\", 3+6j]\n",
        "L1[3] = \"Akash Tomar\"\n",
        "print(L1)\n",
        "\n",
        "# TUPLE CREATION\n",
        "t = (\"oranges\", \"apple\", 5, 6.6, 100)\n",
        "L = list(t)\n",
        "L [1] = \"grapes\"\n",
        "t = tuple(L)\n",
        "\n",
        "print(t)"
      ],
      "metadata": {
        "colab": {
          "base_uri": "https://localhost:8080/"
        },
        "id": "WJZqK8EmvJ4t",
        "outputId": "bb9230f0-4d48-4c22-d937-b19209d9a190"
      },
      "execution_count": 5,
      "outputs": [
        {
          "output_type": "stream",
          "name": "stdout",
          "text": [
            "['pwskills', 3, 4.6, 'Akash Tomar', (3+6j)]\n",
            "('oranges', 'grapes', 5, 6.6, 100)\n"
          ]
        }
      ]
    },
    {
      "cell_type": "code",
      "source": [
        "# ques6>>  Write a function to demonstrate the behavior of mutable and immutable arguments?\n",
        "\n",
        "def check_mutability(mutable_argu , imutable_argu):\n",
        "\n",
        "\n",
        "        mutable_argu[1] = \"p\"   # no error expected since will be passing a mutable argument such as list\n",
        "        print(\"\\nafter passing mutable_arg i.e list1 is:\", list1 )\n",
        "\n",
        "        imutable_argu[1] = \"k\"  # error expected since will be passing a immutable argument such as list\n",
        "\n",
        "\n",
        "list1 = [1, 5, 6, 8, 'a']\n",
        "string1 =   \"VIKRANT\"\n",
        "\n",
        "print(\"\\nbefore passing mutable_arg i.e list1 is:\", list1 )\n",
        "print(\"\\nbefore passing imutable_arg i.e string1 is:\", string1 )\n",
        "\n",
        "\n",
        "check_mutability(list1, string1)\n",
        "\n",
        "print(\"\\nafter passing mutable_arg i.e list1 is:\", list1 )\n",
        "print(\"after passing imutable_arg i.e string1 is:\", string1 )"
      ],
      "metadata": {
        "colab": {
          "base_uri": "https://localhost:8080/",
          "height": 436
        },
        "id": "-d0quNLgvY8R",
        "outputId": "3946e580-aefc-476e-eef9-d2356a21a9c8"
      },
      "execution_count": 6,
      "outputs": [
        {
          "output_type": "stream",
          "name": "stdout",
          "text": [
            "\n",
            "before passing mutable_arg i.e list1 is: [1, 5, 6, 8, 'a']\n",
            "\n",
            "before passing imutable_arg i.e string1 is: VIKRANT\n",
            "\n",
            "after passing mutable_arg i.e list1 is: [1, 'p', 6, 8, 'a']\n"
          ]
        },
        {
          "output_type": "error",
          "ename": "TypeError",
          "evalue": "'str' object does not support item assignment",
          "traceback": [
            "\u001b[0;31m---------------------------------------------------------------------------\u001b[0m",
            "\u001b[0;31mTypeError\u001b[0m                                 Traceback (most recent call last)",
            "\u001b[0;32m<ipython-input-6-a1065a7f3a14>\u001b[0m in \u001b[0;36m<cell line: 0>\u001b[0;34m()\u001b[0m\n\u001b[1;32m     17\u001b[0m \u001b[0;34m\u001b[0m\u001b[0m\n\u001b[1;32m     18\u001b[0m \u001b[0;34m\u001b[0m\u001b[0m\n\u001b[0;32m---> 19\u001b[0;31m \u001b[0mcheck_mutability\u001b[0m\u001b[0;34m(\u001b[0m\u001b[0mlist1\u001b[0m\u001b[0;34m,\u001b[0m \u001b[0mstring1\u001b[0m\u001b[0;34m)\u001b[0m\u001b[0;34m\u001b[0m\u001b[0;34m\u001b[0m\u001b[0m\n\u001b[0m\u001b[1;32m     20\u001b[0m \u001b[0;34m\u001b[0m\u001b[0m\n\u001b[1;32m     21\u001b[0m \u001b[0mprint\u001b[0m\u001b[0;34m(\u001b[0m\u001b[0;34m\"\\nafter passing mutable_arg i.e list1 is:\"\u001b[0m\u001b[0;34m,\u001b[0m \u001b[0mlist1\u001b[0m \u001b[0;34m)\u001b[0m\u001b[0;34m\u001b[0m\u001b[0;34m\u001b[0m\u001b[0m\n",
            "\u001b[0;32m<ipython-input-6-a1065a7f3a14>\u001b[0m in \u001b[0;36mcheck_mutability\u001b[0;34m(mutable_argu, imutable_argu)\u001b[0m\n\u001b[1;32m      7\u001b[0m         \u001b[0mprint\u001b[0m\u001b[0;34m(\u001b[0m\u001b[0;34m\"\\nafter passing mutable_arg i.e list1 is:\"\u001b[0m\u001b[0;34m,\u001b[0m \u001b[0mlist1\u001b[0m \u001b[0;34m)\u001b[0m\u001b[0;34m\u001b[0m\u001b[0;34m\u001b[0m\u001b[0m\n\u001b[1;32m      8\u001b[0m \u001b[0;34m\u001b[0m\u001b[0m\n\u001b[0;32m----> 9\u001b[0;31m         \u001b[0mimutable_argu\u001b[0m\u001b[0;34m[\u001b[0m\u001b[0;36m1\u001b[0m\u001b[0;34m]\u001b[0m \u001b[0;34m=\u001b[0m \u001b[0;34m\"k\"\u001b[0m  \u001b[0;31m# error expected since will be passing a immutable argument such as list\u001b[0m\u001b[0;34m\u001b[0m\u001b[0;34m\u001b[0m\u001b[0m\n\u001b[0m\u001b[1;32m     10\u001b[0m \u001b[0;34m\u001b[0m\u001b[0m\n\u001b[1;32m     11\u001b[0m \u001b[0;34m\u001b[0m\u001b[0m\n",
            "\u001b[0;31mTypeError\u001b[0m: 'str' object does not support item assignment"
          ]
        }
      ]
    },
    {
      "cell_type": "code",
      "source": [
        "# ques7>>  Write a program that performs basic arithmetic operations on two user-input numbers?\n",
        "\n",
        "num1 = int(input(\"Enter first number: \"))\n",
        "num2 = int(input(\"Enter second number: \"))\n",
        "\n",
        "add = num1 + num2\n",
        "dif = num1 - num2\n",
        "mul = num1 * num2\n",
        "div = num1 / num2\n",
        "power = num1 ** num2\n",
        "modulus = num1 % num2\n",
        "print('Sum of ',num1 ,'and' ,num2 ,'is  :',add)\n",
        "print('\\nDifference of ',num1 ,'and' ,num2 ,'is  :',dif)\n",
        "print('\\nProduct of' ,num1 ,'and' ,num2 ,'is  :',mul)\n",
        "print('\\nDivision of ',num1 ,'and' ,num2 ,'is  :',div)\n",
        "print('\\nExponent of ',num1 ,'and' ,num2 ,'is  :',power)\n",
        "print('\\nModulus of ',num1 ,'and' ,num2 ,'is  :',modulus)"
      ],
      "metadata": {
        "colab": {
          "base_uri": "https://localhost:8080/"
        },
        "id": "WStVi2FKvk_h",
        "outputId": "d6df38b0-4d96-44da-ca46-2dc6b2f06b75"
      },
      "execution_count": 7,
      "outputs": [
        {
          "output_type": "stream",
          "name": "stdout",
          "text": [
            "Enter first number: 55\n",
            "Enter second number: 27\n",
            "Sum of  55 and 27 is  : 82\n",
            "\n",
            "Difference of  55 and 27 is  : 28\n",
            "\n",
            "Product of 55 and 27 is  : 1485\n",
            "\n",
            "Division of  55 and 27 is  : 2.037037037037037\n",
            "\n",
            "Exponent of  55 and 27 is  : 97677068348973470680873545788228511810302734375\n",
            "\n",
            "Modulus of  55 and 27 is  : 1\n"
          ]
        }
      ]
    },
    {
      "cell_type": "code",
      "source": [
        "# ques8>>  Write a program to demonstrate the use of logical operators?\n",
        "\n",
        "a = int(input('enter first number: '))\n",
        "b = int(input('enter second number: '))\n",
        "c = int(input('enter third number: '))\n",
        "\n",
        "\n",
        "if a > 5 and b < 30:\n",
        "    print(\"Both conditions are true using 'and' operator\")\n",
        "else:\n",
        "    print(\"At least one condition is false using 'and' operator\")\n",
        "\n",
        "\n",
        "if a > 5 or b > 30:\n",
        "    print(\"At least one condition is true using 'or' operator\")\n",
        "else:\n",
        "    print(\"Both conditions are false using 'or' operator\")\n",
        "\n",
        "\n",
        "if not a > 25:\n",
        "    print(\"Condition is true using 'not' operator\")\n",
        "else:\n",
        "    print(\"Condition is false using 'not' operator\")\n"
      ],
      "metadata": {
        "colab": {
          "base_uri": "https://localhost:8080/"
        },
        "id": "MUb0aw7IvvC8",
        "outputId": "47bb1b3c-4498-4fcb-b28a-872caaa6b82f"
      },
      "execution_count": 8,
      "outputs": [
        {
          "output_type": "stream",
          "name": "stdout",
          "text": [
            "enter first number: 10\n",
            "enter second number: 15\n",
            "enter third number: 55\n",
            "Both conditions are true using 'and' operator\n",
            "At least one condition is true using 'or' operator\n",
            "Condition is true using 'not' operator\n"
          ]
        }
      ]
    },
    {
      "cell_type": "code",
      "source": [
        "# ques9>>  Write a Python program to convert user input from string to integer, float, and boolean types?\n",
        "\n",
        "value = input(\"Enter a value: \") # always take input as string\n",
        "\n",
        "print(\"\\nEntered value type is: \", type(value))\n",
        "print(f\"\\nConverted user input string: {value} to int is: \",  int(value))\n",
        "print(f\"Converted user input string: {value} to int is: \",  float(value))\n",
        "print(f\"Converted user input string: {value} to int is: \",  bool(value))"
      ],
      "metadata": {
        "colab": {
          "base_uri": "https://localhost:8080/"
        },
        "id": "VnJ84myYv8ZQ",
        "outputId": "72110d3f-3301-441a-b796-8ac045b51c24"
      },
      "execution_count": 9,
      "outputs": [
        {
          "output_type": "stream",
          "name": "stdout",
          "text": [
            "Enter a value: 56\n",
            "\n",
            "Entered value type is:  <class 'str'>\n",
            "\n",
            "Converted user input string: 56 to int is:  56\n",
            "Converted user input string: 56 to int is:  56.0\n",
            "Converted user input string: 56 to int is:  True\n"
          ]
        }
      ]
    },
    {
      "cell_type": "code",
      "source": [
        "# ques10>>  Write code to demonstrate type casting with list elements?\n",
        "\n",
        "a = 5\n",
        "b = 7.6\n",
        "c = 9\n",
        "\n",
        "x = int(a)\n",
        "y = float(b)\n",
        "z = str(c)\n",
        "\n",
        "print(type(x))\n",
        "print(type(y))\n",
        "print(type(z))"
      ],
      "metadata": {
        "colab": {
          "base_uri": "https://localhost:8080/"
        },
        "id": "0ZAS4acLwFK4",
        "outputId": "a632604c-6a7b-4214-802b-5f3045bac656"
      },
      "execution_count": 10,
      "outputs": [
        {
          "output_type": "stream",
          "name": "stdout",
          "text": [
            "<class 'int'>\n",
            "<class 'float'>\n",
            "<class 'str'>\n"
          ]
        }
      ]
    },
    {
      "cell_type": "code",
      "source": [
        "# ques11>>  Write a program that checks if a number is positive, negative, or zero?\n",
        "\n",
        "num = float(input(\"Enter the number: \"))\n",
        "\n",
        "if num < 0:\n",
        "    print(num, \"Is a negative number\")\n",
        "\n",
        "elif num == 0:\n",
        "    print(num, \"Entered number is zero\")\n",
        "\n",
        "else:\n",
        "    print(num, \"Is a positive number\")\n"
      ],
      "metadata": {
        "colab": {
          "base_uri": "https://localhost:8080/"
        },
        "id": "shkWqNqOwRxK",
        "outputId": "01c0c719-1d4a-49e3-e7d1-3b89899d728e"
      },
      "execution_count": 11,
      "outputs": [
        {
          "output_type": "stream",
          "name": "stdout",
          "text": [
            "Enter the number: 33\n",
            "33.0 Is a positive number\n"
          ]
        }
      ]
    },
    {
      "cell_type": "code",
      "source": [
        "# ques12>>  Write a for loop to print numbers from 1 to 10?\n",
        "\n",
        "for i in range(1,11):\n",
        "    print(i)"
      ],
      "metadata": {
        "colab": {
          "base_uri": "https://localhost:8080/"
        },
        "id": "9-ZDowf3wa65",
        "outputId": "8687cfef-d324-4357-92e4-b2d30a1001cf"
      },
      "execution_count": 12,
      "outputs": [
        {
          "output_type": "stream",
          "name": "stdout",
          "text": [
            "1\n",
            "2\n",
            "3\n",
            "4\n",
            "5\n",
            "6\n",
            "7\n",
            "8\n",
            "9\n",
            "10\n"
          ]
        }
      ]
    },
    {
      "cell_type": "code",
      "source": [
        "# ques13>>  Write a Python program to find the sum of all even numbers between 1 and 50?\n",
        "\n",
        "for i in range(1,51):\n",
        "    if (i%2 ==  0):\n",
        "      print(i)\n",
        "    else:\n",
        "       continue"
      ],
      "metadata": {
        "colab": {
          "base_uri": "https://localhost:8080/"
        },
        "id": "mfHKQGncwhF6",
        "outputId": "77ffd03b-d9a8-445b-cbc9-9219520b229e"
      },
      "execution_count": 13,
      "outputs": [
        {
          "output_type": "stream",
          "name": "stdout",
          "text": [
            "2\n",
            "4\n",
            "6\n",
            "8\n",
            "10\n",
            "12\n",
            "14\n",
            "16\n",
            "18\n",
            "20\n",
            "22\n",
            "24\n",
            "26\n",
            "28\n",
            "30\n",
            "32\n",
            "34\n",
            "36\n",
            "38\n",
            "40\n",
            "42\n",
            "44\n",
            "46\n",
            "48\n",
            "50\n"
          ]
        }
      ]
    },
    {
      "cell_type": "code",
      "source": [
        "# ques14>>  Write a program to reverse a string using a while loop?\n",
        "\n",
        "name = \"pwskills\"\n",
        "#rev = name[::-1]\n",
        "#print(rev)\n",
        "i = 1\n",
        "while i <= len(name):\n",
        "    print(name[-i])\n",
        "    i= i+1"
      ],
      "metadata": {
        "colab": {
          "base_uri": "https://localhost:8080/"
        },
        "id": "xBhTQcGKwrTX",
        "outputId": "e7a46d2d-2b86-4b5a-cf31-e3663a4e021c"
      },
      "execution_count": 14,
      "outputs": [
        {
          "output_type": "stream",
          "name": "stdout",
          "text": [
            "s\n",
            "l\n",
            "l\n",
            "i\n",
            "k\n",
            "s\n",
            "w\n",
            "p\n"
          ]
        }
      ]
    },
    {
      "cell_type": "code",
      "source": [
        "# ques15>>  Write a Python program to calculate the factorial of a number provided by the user using a while loop?\n",
        "\n",
        "fact = int(input(\"Enter the value: \"))\n",
        "ans = 1\n",
        "while (fact > 1):\n",
        "    ans *= fact\n",
        "\n",
        "    fact = fact - 1\n",
        "print(ans)"
      ],
      "metadata": {
        "colab": {
          "base_uri": "https://localhost:8080/"
        },
        "id": "7xynNKxuwu_h",
        "outputId": "e7db09b0-5c97-499d-ee50-78372d3459c2"
      },
      "execution_count": 17,
      "outputs": [
        {
          "output_type": "stream",
          "name": "stdout",
          "text": [
            "Enter the value: 13\n",
            "6227020800\n"
          ]
        }
      ]
    }
  ]
}